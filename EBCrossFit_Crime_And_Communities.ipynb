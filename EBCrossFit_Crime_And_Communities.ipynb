{
 "cells": [
  {
   "cell_type": "markdown",
   "metadata": {},
   "source": [
    "## Load in packages and set up environment"
   ]
  },
  {
   "cell_type": "code",
   "execution_count": 1,
   "metadata": {},
   "outputs": [
    {
     "name": "stdout",
     "output_type": "stream",
     "text": [
      "\u001b[32m\u001b[1mActivating\u001b[22m\u001b[39m environment at `~/Documents/Stanford/Stefan/EBCrossFitPaper/Project.toml`\n"
     ]
    }
   ],
   "source": [
    "using Pkg\n",
    "Pkg.activate(\".\")"
   ]
  },
  {
   "cell_type": "code",
   "execution_count": 2,
   "metadata": {},
   "outputs": [
    {
     "name": "stderr",
     "output_type": "stream",
     "text": [
      "┌ Info: Recompiling stale cache file /Users/ignatiad/.julia/compiled/v1.2/EBayesDatasets/PGIhc.ji for EBayesDatasets [030c8bae-559e-11e9-37f6-d9ac2af9a810]\n",
      "└ @ Base loading.jl:1240\n"
     ]
    }
   ],
   "source": [
    "using EBayes\n",
    "using EBayesDatasets"
   ]
  },
  {
   "cell_type": "code",
   "execution_count": 6,
   "metadata": {
    "collapsed": true
   },
   "outputs": [],
   "source": [
    "using DataDeps\n",
    "using CSV\n",
    "using DataFrames\n",
    "using Random\n",
    "using Query"
   ]
  },
  {
   "cell_type": "markdown",
   "metadata": {},
   "source": [
    "## Load dataset and preprocess"
   ]
  },
  {
   "cell_type": "code",
   "execution_count": 10,
   "metadata": {},
   "outputs": [
    {
     "data": {
      "text/html": [
       "<table class=\"data-frame\"><thead><tr><th></th><th>Column1</th><th>Column2</th><th>Column3</th><th>Column4</th><th>Column5</th><th>Column6</th><th>Column7</th><th>Column8</th></tr><tr><th></th><th>String</th><th>String</th><th>String</th><th>String</th><th>Int64</th><th>Int64</th><th>Float64</th><th>Float64</th></tr></thead><tbody><p>6 rows × 147 columns (omitted printing of 139 columns)</p><tr><th>1</th><td>BerkeleyHeightstownship</td><td>NJ</td><td>39</td><td>5320</td><td>1</td><td>11980</td><td>3.1</td><td>1.37</td></tr><tr><th>2</th><td>Marpletownship</td><td>PA</td><td>45</td><td>47616</td><td>1</td><td>23123</td><td>2.82</td><td>0.8</td></tr><tr><th>3</th><td>Tigardcity</td><td>OR</td><td>?</td><td>?</td><td>1</td><td>29344</td><td>2.43</td><td>0.74</td></tr><tr><th>4</th><td>Gloversvillecity</td><td>NY</td><td>35</td><td>29443</td><td>1</td><td>16656</td><td>2.4</td><td>1.7</td></tr><tr><th>5</th><td>Bemidjicity</td><td>MN</td><td>7</td><td>5068</td><td>1</td><td>11245</td><td>2.76</td><td>0.53</td></tr><tr><th>6</th><td>Springfieldcity</td><td>MO</td><td>?</td><td>?</td><td>1</td><td>140494</td><td>2.45</td><td>2.51</td></tr></tbody></table>"
      ],
      "text/latex": [
       "\\begin{tabular}{r|ccccccccc}\n",
       "\t& Column1 & Column2 & Column3 & Column4 & Column5 & Column6 & Column7 & Column8 & \\\\\n",
       "\t\\hline\n",
       "\t& String & String & String & String & Int64 & Int64 & Float64 & Float64 & \\\\\n",
       "\t\\hline\n",
       "\t1 & BerkeleyHeightstownship & NJ & 39 & 5320 & 1 & 11980 & 3.1 & 1.37 & $\\dots$ \\\\\n",
       "\t2 & Marpletownship & PA & 45 & 47616 & 1 & 23123 & 2.82 & 0.8 & $\\dots$ \\\\\n",
       "\t3 & Tigardcity & OR & ? & ? & 1 & 29344 & 2.43 & 0.74 & $\\dots$ \\\\\n",
       "\t4 & Gloversvillecity & NY & 35 & 29443 & 1 & 16656 & 2.4 & 1.7 & $\\dots$ \\\\\n",
       "\t5 & Bemidjicity & MN & 7 & 5068 & 1 & 11245 & 2.76 & 0.53 & $\\dots$ \\\\\n",
       "\t6 & Springfieldcity & MO & ? & ? & 1 & 140494 & 2.45 & 2.51 & $\\dots$ \\\\\n",
       "\\end{tabular}\n"
      ],
      "text/plain": [
       "6×147 DataFrame. Omitted printing of 142 columns\n",
       "│ Row │ Column1                 │ Column2 │ Column3 │ Column4 │ Column5 │\n",
       "│     │ \u001b[90mString\u001b[39m                  │ \u001b[90mString\u001b[39m  │ \u001b[90mString\u001b[39m  │ \u001b[90mString\u001b[39m  │ \u001b[90mInt64\u001b[39m   │\n",
       "├─────┼─────────────────────────┼─────────┼─────────┼─────────┼─────────┤\n",
       "│ 1   │ BerkeleyHeightstownship │ NJ      │ 39      │ 5320    │ 1       │\n",
       "│ 2   │ Marpletownship          │ PA      │ 45      │ 47616   │ 1       │\n",
       "│ 3   │ Tigardcity              │ OR      │ ?       │ ?       │ 1       │\n",
       "│ 4   │ Gloversvillecity        │ NY      │ 35      │ 29443   │ 1       │\n",
       "│ 5   │ Bemidjicity             │ MN      │ 7       │ 5068    │ 1       │\n",
       "│ 6   │ Springfieldcity         │ MO      │ ?       │ ?       │ 1       │"
      ]
     },
     "execution_count": 10,
     "metadata": {},
     "output_type": "execute_result"
    }
   ],
   "source": [
    "crime_path = @datadep_str \"communities-and-crime\"\n",
    "crime_df = CSV.File(\"$crime_path/CommViolPredUnnormalizedData.txt\", header=false) |>\n",
    "           DataFrame\n",
    "first(crime_df,6)"
   ]
  },
  {
   "cell_type": "code",
   "execution_count": 16,
   "metadata": {},
   "outputs": [
    {
     "data": {
      "text/html": [
       "<table class=\"data-frame\"><thead><tr><th></th><th>Column1</th></tr><tr><th></th><th>String</th></tr></thead><tbody><p>6 rows × 1 columns</p><tr><th>1</th><td>communityname</td></tr><tr><th>2</th><td>state</td></tr><tr><th>3</th><td>countyCode</td></tr><tr><th>4</th><td>communityCode</td></tr><tr><th>5</th><td>fold</td></tr><tr><th>6</th><td>population</td></tr></tbody></table>"
      ],
      "text/latex": [
       "\\begin{tabular}{r|c}\n",
       "\t& Column1\\\\\n",
       "\t\\hline\n",
       "\t& String\\\\\n",
       "\t\\hline\n",
       "\t1 & communityname \\\\\n",
       "\t2 & state \\\\\n",
       "\t3 & countyCode \\\\\n",
       "\t4 & communityCode \\\\\n",
       "\t5 & fold \\\\\n",
       "\t6 & population \\\\\n",
       "\\end{tabular}\n"
      ],
      "text/plain": [
       "6×1 DataFrame\n",
       "│ Row │ Column1       │\n",
       "│     │ \u001b[90mString\u001b[39m        │\n",
       "├─────┼───────────────┤\n",
       "│ 1   │ communityname │\n",
       "│ 2   │ state         │\n",
       "│ 3   │ countyCode    │\n",
       "│ 4   │ communityCode │\n",
       "│ 5   │ fold          │\n",
       "│ 6   │ population    │"
      ]
     },
     "execution_count": 16,
     "metadata": {},
     "output_type": "execute_result"
    }
   ],
   "source": [
    "crime_colnames = CSV.File(EBayesDatasets.crime_colnames_path,\n",
    "                     header=false) |>\n",
    "          DataFrame\n",
    "names!(crime_df, Symbol.(crime_colnames[:,1]))\n",
    "first(crime_colnames,6)"
   ]
  },
  {
   "cell_type": "code",
   "execution_count": 27,
   "metadata": {},
   "outputs": [
    {
     "data": {
      "text/plain": [
       "(2118, 147)"
      ]
     },
     "execution_count": 27,
     "metadata": {},
     "output_type": "execute_result"
    }
   ],
   "source": [
    "crime_df_filt = @from i in crime_df begin\n",
    "                @where i.nonViolPerPop != \"?\"\n",
    "                @select i\n",
    "                @collect DataFrame\n",
    "    end\n",
    "\n",
    "crime_df_filt = crime_df_filt |>\n",
    "                @mutate(nonViolPerPop = parse.(Float64, _.nonViolPerPop)) |>\n",
    "                DataFrame; \n",
    "size(crime_df_filt)"
   ]
  },
  {
   "cell_type": "markdown",
   "metadata": {},
   "source": [
    "Non-violent crime rate is the quantity we will try to predict:"
   ]
  },
  {
   "cell_type": "code",
   "execution_count": 29,
   "metadata": {},
   "outputs": [
    {
     "data": {
      "text/plain": [
       "((0.2711976, 1817), (0.0011679000000000001, 373))"
      ]
     },
     "execution_count": 29,
     "metadata": {},
     "output_type": "execute_result"
    }
   ],
   "source": [
    "crime_rate = crime_df_filt[:,:nonViolPerPop] ./ 100_000\n",
    "findmax(crime_rate), findmin(crime_rate)"
   ]
  },
  {
   "cell_type": "markdown",
   "metadata": {},
   "source": [
    "Let us also record the population of every community and the number of crimes."
   ]
  },
  {
   "cell_type": "code",
   "execution_count": 34,
   "metadata": {},
   "outputs": [
    {
     "data": {
      "text/plain": [
       "(14, 451432)"
      ]
     },
     "execution_count": 34,
     "metadata": {},
     "output_type": "execute_result"
    }
   ],
   "source": [
    "npopulation = crime_df_filt[:,:population]\n",
    "ncrimes = Int64.(round.(crime_df_filt[:,:nonViolPerPop] ./ 100_000 .* npopulation));\n",
    "extrema(ncrimes)"
   ]
  },
  {
   "cell_type": "markdown",
   "metadata": {},
   "source": [
    "## Set up XGBoost and EBCF models"
   ]
  },
  {
   "cell_type": "code",
   "execution_count": 24,
   "metadata": {
    "collapsed": true
   },
   "outputs": [],
   "source": [
    "using MLJ\n",
    "using MLJBase"
   ]
  },
  {
   "cell_type": "code",
   "execution_count": 25,
   "metadata": {},
   "outputs": [
    {
     "name": "stderr",
     "output_type": "stream",
     "text": [
      "WARNING: both OnlineStatsBase and Base export \"eachcol\"; uses of it in module OnlineStats must be qualified\n"
     ]
    }
   ],
   "source": [
    "MLJ.@load XGBoostRegressor\n",
    "xgb_tree = XGBoostRegressor(max_depth=5)\n",
    "r_num_round = range(xgb_tree, :num_round, lower=2, upper=100)\n",
    "r_eta = range(xgb_tree, :eta, lower=0.01, upper=1.0)\n",
    "nested_ranges = [r_num_round, r_eta]\n",
    "tuned_XGBoost = TunedModel(model=xgb_tree,\n",
    "                           tuning=Grid(resolution=8),\n",
    "                           resampling=CV(nfolds=5),\n",
    "                           ranges=nested_ranges,\n",
    "                           measure=rms);"
   ]
  },
  {
   "cell_type": "code",
   "execution_count": 98,
   "metadata": {},
   "outputs": [
    {
     "data": {
      "text/plain": [
       "EBayesCrossFit{MLJ.DeterministicTunedModel{Grid,XGBoostRegressor},Int64}(\u001b[34mDeterministicTunedModel @ 1…93\u001b[39m, 5)"
      ]
     },
     "execution_count": 98,
     "metadata": {},
     "output_type": "execute_result"
    }
   ],
   "source": [
    "ebcf_xgb = EBayesCrossFit(tuned_XGBoost)"
   ]
  },
  {
   "cell_type": "markdown",
   "metadata": {},
   "source": [
    "## Subsample dataset and apply methods"
   ]
  },
  {
   "cell_type": "code",
   "execution_count": 35,
   "metadata": {
    "collapsed": true
   },
   "outputs": [],
   "source": [
    "using Distributions"
   ]
  },
  {
   "cell_type": "code",
   "execution_count": 89,
   "metadata": {},
   "outputs": [
    {
     "data": {
      "text/plain": [
       "200"
      ]
     },
     "execution_count": 89,
     "metadata": {},
     "output_type": "execute_result"
    }
   ],
   "source": [
    "B_subsample_200 = 200"
   ]
  },
  {
   "cell_type": "code",
   "execution_count": 58,
   "metadata": {},
   "outputs": [],
   "source": [
    "# Hypergeometric(s, f, n)  s successes, f failures, n trials\n",
    "# (s k)(f n-k)/(s+f n)\n",
    "\n",
    "# prob k incidents =  (from violent results choose k *  from non violent results choose n-k) /\n",
    "\n",
    "# so here; Hypergeometric(Violent, Non-Violent, B_subsample)\n",
    "\n",
    "Random.seed!(1)\n",
    "subsampled_crimes_200 = rand.( Hypergeometric.(ncrimes, npopulation .- ncrimes, B_subsample_200))\n",
    "subsampled_crime_rate_200 = subsampled_crimes_200 ./ B_subsample_200;"
   ]
  },
  {
   "cell_type": "code",
   "execution_count": 90,
   "metadata": {},
   "outputs": [],
   "source": [
    "vst_crimes_200 =  NormalSamples( sqrt.(subsampled_crime_rate_200),\n",
    "                             fill( sqrt(1/B_subsample_200/4), length(subsampled_crime_rate_200)));"
   ]
  },
  {
   "cell_type": "code",
   "execution_count": 91,
   "metadata": {},
   "outputs": [
    {
     "data": {
      "text/plain": [
       "1.0485465098587923"
      ]
     },
     "execution_count": 91,
     "metadata": {},
     "output_type": "execute_result"
    }
   ],
   "source": [
    "# sanity check: Check approximate variance stabilization\n",
    "var( vst_crimes_200.Z .- sqrt.(crime_rate ))*4*B_subsample_200"
   ]
  },
  {
   "cell_type": "markdown",
   "metadata": {},
   "source": [
    "## Apply methods that do not use covariates"
   ]
  },
  {
   "cell_type": "code",
   "execution_count": 92,
   "metadata": {},
   "outputs": [
    {
     "data": {
      "text/plain": [
       "223.8764867761662"
      ]
     },
     "execution_count": 92,
     "metadata": {},
     "output_type": "execute_result"
    }
   ],
   "source": [
    "unbiased_preds_200 = vst_crimes_200.Z #unbiased at sqrt_scale\n",
    "unbiased_errors_200 = (unbiased_preds_200.^2 .- crime_rate).^2 .*1_000_000 # so that MSE is per 1_k population;\n",
    "mean(unbiased_errors_200) # so that MSE is per 1_k population"
   ]
  },
  {
   "cell_type": "code",
   "execution_count": 93,
   "metadata": {
    "collapsed": true
   },
   "outputs": [],
   "source": [
    "sure_fit_200 = fit(Normal(), SURE(), GrandMeanLocation(), vst_crimes_200)\n",
    "sure_preds_200 = predict(sure_fit_200);"
   ]
  },
  {
   "cell_type": "code",
   "execution_count": 94,
   "metadata": {},
   "outputs": [
    {
     "data": {
      "text/plain": [
       "184.19454193213878"
      ]
     },
     "execution_count": 94,
     "metadata": {},
     "output_type": "execute_result"
    }
   ],
   "source": [
    "sure_errors_200 = (sure_preds_200.^2 .- crime_rate).^2 .*1_000_000 # so that MSE is per 1_k population;\n",
    "mean(sure_errors_200)"
   ]
  },
  {
   "cell_type": "markdown",
   "metadata": {},
   "source": [
    "## Apply covariate-powered methods"
   ]
  },
  {
   "cell_type": "code",
   "execution_count": 95,
   "metadata": {},
   "outputs": [
    {
     "data": {
      "text/plain": [
       "74-element Array{Symbol,1}:\n",
       " :householdsize        \n",
       " :racepctblack         \n",
       " :racePctWhite         \n",
       " :racePctAsian         \n",
       " :racePctHisp          \n",
       " :agePct12t21          \n",
       " :agePct12t29          \n",
       " :agePct16t24          \n",
       " :agePct65up           \n",
       " :pctUrban             \n",
       " :pctWWage             \n",
       " :pctWFarmSelf         \n",
       " :pctWInvInc           \n",
       " ⋮                     \n",
       " :MedRentPctHousInc    \n",
       " :MedOwnCostPctInc     \n",
       " :MedOwnCostPctIncNoMtg\n",
       " :PctForeignBorn       \n",
       " :PctBornSameState     \n",
       " :PctSameHouse85       \n",
       " :PctSameCity85        \n",
       " :PctSameState85       \n",
       " :LandArea             \n",
       " :PopDens              \n",
       " :PctUsePubTrans       \n",
       " :LemasPctOfficDrugUn  "
      ]
     },
     "execution_count": 95,
     "metadata": {},
     "output_type": "execute_result"
    }
   ],
   "source": [
    "X = crime_df_filt[:,6:129]; #lasnames(X)\n",
    "X_sub =X[:, findall( typeof.(eachcol(X)) .== Vector{Float64})]\n",
    "names(X_sub)"
   ]
  },
  {
   "cell_type": "code",
   "execution_count": 96,
   "metadata": {},
   "outputs": [
    {
     "data": {
      "text/plain": [
       "3.0503305004721435"
      ]
     },
     "execution_count": 96,
     "metadata": {},
     "output_type": "execute_result"
    }
   ],
   "source": [
    "# sanity check\n",
    "mean(X_sub[:, :PctUsePubTrans]) #~3.041"
   ]
  },
  {
   "cell_type": "code",
   "execution_count": null,
   "metadata": {},
   "outputs": [
    {
     "name": "stderr",
     "output_type": "stream",
     "text": [
      "┌ Info: Training \u001b[34mMachine{DeterministicTunedModel} @ 1…50\u001b[39m.\n",
      "└ @ MLJ /Users/ignatiad/.julia/packages/MLJ/K371Q/src/machines.jl:141\n",
      "┌ Info: Mimimizing rms. \n",
      "└ @ MLJ /Users/ignatiad/.julia/packages/MLJ/K371Q/src/tuning.jl:194\n",
      "\u001b[33mIterating over a 64-point grid:  86%[=====================>   ]  ETA: 0:00:29\u001b[39m"
     ]
    }
   ],
   "source": [
    "Random.seed!(1)\n",
    "ebcf_fit_200 = fit(ebcf_xgb, X_sub, vst_crimes_200, verbosity=1);"
   ]
  },
  {
   "cell_type": "markdown",
   "metadata": {},
   "source": [
    "# Repeat analysis above with B=500 subsampling"
   ]
  },
  {
   "cell_type": "code",
   "execution_count": null,
   "metadata": {
    "collapsed": true
   },
   "outputs": [],
   "source": [
    "B_subsample_500 = 500\n",
    "Random.seed!(1)\n",
    "subsampled_crimes_500 = rand.( Hypergeometric.(ncrimes, npopulation .- ncrimes, B_subsample_500))\n",
    "subsampled_crime_rate_500 = subsampled_crimes_500 ./ B_subsample_500;"
   ]
  },
  {
   "cell_type": "code",
   "execution_count": null,
   "metadata": {
    "collapsed": true
   },
   "outputs": [],
   "source": [
    "vst_crimes_500 =  NormalSamples( sqrt.(subsampled_crime_rate),\n",
    "                             fill( sqrt(1/B_subsample_500/4), length(subsampled_crime_rate_500)));\n",
    "var( vst_crimes_500.Z .- sqrt.(crime_rate ))*4*B_subsample_500"
   ]
  },
  {
   "cell_type": "code",
   "execution_count": null,
   "metadata": {
    "collapsed": true
   },
   "outputs": [],
   "source": [
    "unbiased_preds_500 = vst_crimes_500.Z #unbiased at sqrt_scale\n",
    "unbiased_errors_500 = (unbiased_preds_500.^2 .- crime_rate).^2 .*1_000_000 # so that MSE is per 1_k population;\n",
    "@show mean(unbiased_errors_500)\n",
    "\n",
    "sure_fit_500 = fit(Normal(), SURE(), GrandMeanLocation(), vst_crimes_500)\n",
    "sure_preds_500 = predict(sure_fit_500);\n",
    "\n",
    "sure_errors_500 = (sure_preds_500.^2 .- crime_rate).^2 .*1_000_000 # so that MSE is per 1_k population;\n",
    "mean(sure_errors_500)"
   ]
  }
 ],
 "metadata": {
  "kernelspec": {
   "display_name": "Julia 1.2.0",
   "language": "julia",
   "name": "julia-1.2"
  },
  "language_info": {
   "file_extension": ".jl",
   "mimetype": "application/julia",
   "name": "julia",
   "version": "1.2.0"
  }
 },
 "nbformat": 4,
 "nbformat_minor": 2
}
