{
 "cells": [
  {
   "cell_type": "code",
   "execution_count": 4,
   "metadata": {},
   "outputs": [
    {
     "name": "stdout",
     "output_type": "stream",
     "text": [
      "\u001b[32m\u001b[1mActivating\u001b[22m\u001b[39m environment at `~/Documents/Stanford/Stefan/EBCrossFitPaper/Project.toml`\n"
     ]
    }
   ],
   "source": [
    "using Pkg\n",
    "Pkg.activate(\".\")"
   ]
  },
  {
   "cell_type": "code",
   "execution_count": 21,
   "metadata": {},
   "outputs": [],
   "source": [
    "using EBayes\n",
    "using EBayesDatasets\n",
    "import JuliaDB\n",
    "using StatsBase"
   ]
  },
  {
   "cell_type": "markdown",
   "metadata": {},
   "source": [
    "Load in preprocessed MovieLens dataset:"
   ]
  },
  {
   "cell_type": "code",
   "execution_count": 8,
   "metadata": {},
   "outputs": [],
   "source": [
    "mv_lens = EBayesDatasets.MovieLens(;n_min_train=3, prop_test=0.1);"
   ]
  },
  {
   "cell_type": "markdown",
   "metadata": {},
   "source": [
    "## Pulp Fiction and Urban Justice\n",
    "\n",
    "In the introduction of the paper we mention the ratings of these two movies, so let us compute these:"
   ]
  },
  {
   "cell_type": "code",
   "execution_count": 10,
   "metadata": {},
   "outputs": [],
   "source": [
    "movie_titles = JuliaDB.select(mv_lens.movie_df, :title);"
   ]
  },
  {
   "cell_type": "code",
   "execution_count": 20,
   "metadata": {},
   "outputs": [
    {
     "data": {
      "text/plain": [
       "(movieId = 296,\n",
       " title = \"Pulp Fiction (1994)\",\n",
       " genres = \"Comedy|Crime|Drama|Thriller\",\n",
       " year = 1994,\n",
       " test_mean = 4.1734962f0,\n",
       " test_n = 60641,\n",
       " test_sd = 0.9773011f0,\n",
       " train_mean = 4.1809115f0,\n",
       " train_n = 6669,\n",
       " train_sd = 0.96609414f0,)"
      ]
     },
     "execution_count": 20,
     "metadata": {},
     "output_type": "execute_result"
    }
   ],
   "source": [
    "pulp_fiction_idx = findall( match.(r\"Pulp\", movie_titles) .!= nothing)[1]\n",
    "pulp_fiction = mv_lens.movie_df[pulp_fiction_idx]"
   ]
  },
  {
   "cell_type": "code",
   "execution_count": 35,
   "metadata": {},
   "outputs": [
    {
     "data": {
      "text/plain": [
       "4.2"
      ]
     },
     "execution_count": 35,
     "metadata": {},
     "output_type": "execute_result"
    }
   ],
   "source": [
    "# let us average over test and train sets\n",
    "pulp_fiction_avg = mean( [pulp_fiction[:test_mean], pulp_fiction[:train_mean]],\n",
    "                    Weights([pulp_fiction[:test_n], pulp_fiction[:train_n]]))\n",
    "round(Float64(pulp_fiction_avg), digits=1)"
   ]
  },
  {
   "cell_type": "code",
   "execution_count": 39,
   "metadata": {},
   "outputs": [
    {
     "data": {
      "text/plain": [
       "(movieId = 66652,\n",
       " title = \"Urban Justice (2007)\",\n",
       " genres = \"Action\",\n",
       " year = 2007,\n",
       " test_mean = 1.5454545f0,\n",
       " test_n = 11,\n",
       " test_sd = 0.9862693f0,\n",
       " train_mean = 1.8333334f0,\n",
       " train_n = 3,\n",
       " train_sd = 0.28867513f0,)"
      ]
     },
     "execution_count": 39,
     "metadata": {},
     "output_type": "execute_result"
    }
   ],
   "source": [
    "urban_justice_idx = findall( match.(r\"Urban Justice\", movie_titles) .!= nothing)[1]\n",
    "urban_justice = mv_lens.movie_df[urban_justice_idx]"
   ]
  },
  {
   "cell_type": "code",
   "execution_count": null,
   "metadata": {
    "collapsed": true
   },
   "outputs": [],
   "source": [
    "# let us average over test and train sets\n",
    "pulp_fiction_avg = mean( [urban_justice[:test_mean], urban_justice[:train_mean]],\n",
    "                    Weights([urban_justice[:test_n], urban_justice[:train_n]]))\n",
    "round(Float64(pulp_fiction_avg), digits=1)"
   ]
  }
 ],
 "metadata": {
  "kernelspec": {
   "display_name": "Julia 1.2.0",
   "language": "julia",
   "name": "julia-1.2"
  },
  "language_info": {
   "file_extension": ".jl",
   "mimetype": "application/julia",
   "name": "julia",
   "version": "1.2.0"
  }
 },
 "nbformat": 4,
 "nbformat_minor": 2
}
