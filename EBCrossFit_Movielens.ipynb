{
 "cells": [
  {
   "cell_type": "code",
   "execution_count": 2,
   "metadata": {},
   "outputs": [
    {
     "name": "stdout",
     "output_type": "stream",
     "text": [
      "\u001b[32m\u001b[1mActivating\u001b[22m\u001b[39m environment at `~/Documents/Stanford/Stefan/EBCrossFitPaper/Project.toml`\n"
     ]
    }
   ],
   "source": [
    "Pkg.activate(\".\")"
   ]
  },
  {
   "cell_type": "code",
   "execution_count": 3,
   "metadata": {},
   "outputs": [
    {
     "name": "stderr",
     "output_type": "stream",
     "text": [
      "┌ Info: Recompiling stale cache file /Users/ignatiad/.julia/compiled/v1.2/EBayes/AL9IL.ji for EBayes [bad9efff-1a8e-41fb-9e7d-5d6f530fb0a3]\n",
      "└ @ Base loading.jl:1240\n",
      "┌ Info: Recompiling stale cache file /Users/ignatiad/.julia/compiled/v1.2/EBayesDatasets/PGIhc.ji for EBayesDatasets [030c8bae-559e-11e9-37f6-d9ac2af9a810]\n",
      "└ @ Base loading.jl:1240\n"
     ]
    }
   ],
   "source": [
    "using EBayes\n",
    "using EBayesDatasets\n",
    "import JuliaDB\n",
    "using StatsBase\n",
    "import DataFrames"
   ]
  },
  {
   "cell_type": "markdown",
   "metadata": {},
   "source": [
    "Load in the MovieLens dataset. The preprocessing of the data occurs in the [EBayesDatasets.jl](https://github.com/nignatiadis/EBayesDatasets.jl) package."
   ]
  },
  {
   "cell_type": "code",
   "execution_count": 4,
   "metadata": {},
   "outputs": [
    {
     "name": "stderr",
     "output_type": "stream",
     "text": [
      "┌ Warning: `setcol(t, args::Pair...)` is deprecated, use `transform(t, args...)` instead.\n",
      "│   caller = EBayesDatasets.MovieLens(::Int64, ::Int64, ::Int64, ::Float64) at movielens.jl:54\n",
      "└ @ EBayesDatasets /Users/ignatiad/.julia/dev/EBayesDatasets/src/movielens.jl:54\n",
      "┌ Warning: `setindex!(df::DataFrame, v::AbstractVector, col_ind::ColumnIndex)` is deprecated, use `begin\n",
      "│     df[!, col_ind] = v\n",
      "│     df\n",
      "│ end` instead.\n",
      "│   caller = EBayesDatasets.MovieLens(::Int64, ::Int64, ::Int64, ::Float64) at movielens.jl:139\n",
      "└ @ EBayesDatasets /Users/ignatiad/.julia/dev/EBayesDatasets/src/movielens.jl:139\n"
     ]
    }
   ],
   "source": [
    "mv_lens = EBayesDatasets.MovieLens(;n_min_train=3, prop_test=0.1);"
   ]
  },
  {
   "cell_type": "markdown",
   "metadata": {},
   "source": [
    "## Pulp Fiction and Urban Justice\n",
    "\n",
    "In the introduction of the paper we mention the ratings of these two movies, so let us compute these:"
   ]
  },
  {
   "cell_type": "code",
   "execution_count": 5,
   "metadata": {},
   "outputs": [
    {
     "data": {
      "text/plain": [
       "12481"
      ]
     },
     "execution_count": 5,
     "metadata": {},
     "output_type": "execute_result"
    }
   ],
   "source": [
    "movie_titles = JuliaDB.select(mv_lens.movie_df, :title);\n",
    "length(movie_titles)"
   ]
  },
  {
   "cell_type": "code",
   "execution_count": 6,
   "metadata": {},
   "outputs": [
    {
     "data": {
      "text/plain": [
       "(movieId = 296,\n",
       " title = \"Pulp Fiction (1994)\",\n",
       " genres = \"Comedy|Crime|Drama|Thriller\",\n",
       " year = 1994,\n",
       " test_mean = 4.1734962f0,\n",
       " test_n = 60641,\n",
       " test_sd = 0.9773011f0,\n",
       " train_mean = 4.1809115f0,\n",
       " train_n = 6669,\n",
       " train_sd = 0.96609414f0,)"
      ]
     },
     "execution_count": 6,
     "metadata": {},
     "output_type": "execute_result"
    }
   ],
   "source": [
    "pulp_fiction_idx = findall( match.(r\"Pulp\", movie_titles) .!= nothing)[1]\n",
    "pulp_fiction = mv_lens.movie_df[pulp_fiction_idx]"
   ]
  },
  {
   "cell_type": "code",
   "execution_count": 7,
   "metadata": {},
   "outputs": [
    {
     "data": {
      "text/plain": [
       "4.2"
      ]
     },
     "execution_count": 7,
     "metadata": {},
     "output_type": "execute_result"
    }
   ],
   "source": [
    "# let us average over test and train sets\n",
    "pulp_fiction_avg = mean( [pulp_fiction[:test_mean], pulp_fiction[:train_mean]],\n",
    "                    Weights([pulp_fiction[:test_n], pulp_fiction[:train_n]]))\n",
    "round(Float64(pulp_fiction_avg), digits=1)"
   ]
  },
  {
   "cell_type": "code",
   "execution_count": 8,
   "metadata": {},
   "outputs": [
    {
     "data": {
      "text/plain": [
       "(movieId = 66652,\n",
       " title = \"Urban Justice (2007)\",\n",
       " genres = \"Action\",\n",
       " year = 2007,\n",
       " test_mean = 1.5454545f0,\n",
       " test_n = 11,\n",
       " test_sd = 0.9862693f0,\n",
       " train_mean = 1.8333334f0,\n",
       " train_n = 3,\n",
       " train_sd = 0.28867513f0,)"
      ]
     },
     "execution_count": 8,
     "metadata": {},
     "output_type": "execute_result"
    }
   ],
   "source": [
    "urban_justice_idx = findall( match.(r\"Urban Justice\", movie_titles) .!= nothing)[1]\n",
    "urban_justice = mv_lens.movie_df[urban_justice_idx]"
   ]
  },
  {
   "cell_type": "code",
   "execution_count": 9,
   "metadata": {},
   "outputs": [
    {
     "data": {
      "text/plain": [
       "1.6"
      ]
     },
     "execution_count": 9,
     "metadata": {},
     "output_type": "execute_result"
    }
   ],
   "source": [
    "# let us average over test and train sets\n",
    "urban_justice_avg = mean( [urban_justice[:test_mean], urban_justice[:train_mean]],\n",
    "                    Weights([urban_justice[:test_n], urban_justice[:train_n]]))\n",
    "round(Float64(urban_justice_avg), digits=1)"
   ]
  },
  {
   "cell_type": "markdown",
   "metadata": {},
   "source": [
    "# Set up EBCrossFit with XGBoost"
   ]
  },
  {
   "cell_type": "code",
   "execution_count": 10,
   "metadata": {
    "collapsed": true
   },
   "outputs": [],
   "source": [
    "using MLJ\n",
    "using MLJBase"
   ]
  },
  {
   "cell_type": "code",
   "execution_count": 11,
   "metadata": {},
   "outputs": [
    {
     "name": "stderr",
     "output_type": "stream",
     "text": [
      "WARNING: both OnlineStatsBase and Base export \"eachcol\"; uses of it in module OnlineStats must be qualified\n"
     ]
    }
   ],
   "source": [
    "MLJ.@load XGBoostRegressor\n",
    "xgb_tree = XGBoostRegressor(max_depth=5)\n",
    "r_num_round = range(xgb_tree, :num_round, lower=2, upper=100)\n",
    "r_eta = range(xgb_tree, :eta, lower=0.01, upper=1.0)\n",
    "nested_ranges = [r_num_round, r_eta]\n",
    "tuned_XGBoost = TunedModel(model=xgb_tree,\n",
    "                           tuning=Grid(resolution=8),\n",
    "                           resampling=CV(nfolds=5),\n",
    "                           ranges=nested_ranges,\n",
    "                           measure=rms);"
   ]
  },
  {
   "cell_type": "code",
   "execution_count": 12,
   "metadata": {},
   "outputs": [
    {
     "data": {
      "text/plain": [
       "EBayesCrossFit{MLJ.DeterministicTunedModel{Grid,XGBoostRegressor},Int64}(\u001b[34mDeterministicTunedModel @ 1…71\u001b[39m, 5)"
      ]
     },
     "execution_count": 12,
     "metadata": {},
     "output_type": "execute_result"
    }
   ],
   "source": [
    "ebcf_xgb = EBayesCrossFit(tuned_XGBoost)"
   ]
  },
  {
   "cell_type": "markdown",
   "metadata": {},
   "source": [
    "# Evaluation of methods"
   ]
  },
  {
   "cell_type": "code",
   "execution_count": 13,
   "metadata": {
    "collapsed": true
   },
   "outputs": [],
   "source": [
    "ss = mv_lens.Zs_train  #Z_i and σ_i calculated based on 10% of users\n",
    "ground_truth = mv_lens.Zs_test.Z; #average movie ratings based on other 90% of users"
   ]
  },
  {
   "cell_type": "code",
   "execution_count": 14,
   "metadata": {},
   "outputs": [
    {
     "data": {
      "text/plain": [
       "12481-element StructArray(::Array{Float64,1}, ::Array{Float64,1}) with eltype NormalSample{Float64}:\n",
       " NormalSample{Float64}(3.915266275405884, 0.01341832039868122)  \n",
       " NormalSample{Float64}(3.2022109031677246, 0.0201176920943941)  \n",
       " NormalSample{Float64}(3.15059757232666, 0.02645977858585608)   \n",
       " NormalSample{Float64}(2.8026819229125977, 0.058021348063866655)\n",
       " NormalSample{Float64}(3.091531276702881, 0.027415793044111868) \n",
       " NormalSample{Float64}(3.8189802169799805, 0.019402497795562867)\n",
       " NormalSample{Float64}(3.3526148796081543, 0.026386293639319304)\n",
       " NormalSample{Float64}(3.0565216541290283, 0.08740960314020435) \n",
       " NormalSample{Float64}(3.0024330615997314, 0.046236734874957754)\n",
       " NormalSample{Float64}(3.431675910949707, 0.017478881086919393) \n",
       " NormalSample{Float64}(3.651515245437622, 0.021805049915141168) \n",
       " NormalSample{Float64}(2.6008522510528564, 0.04996164588421241) \n",
       " NormalSample{Float64}(3.316793918609619, 0.08189783492788894)  \n",
       " ⋮                                                              \n",
       " NormalSample{Float64}(4.0, 0.541187106562885)                  \n",
       " NormalSample{Float64}(2.9375, 0.3314080666130734)              \n",
       " NormalSample{Float64}(2.625, 0.46868178248405457)              \n",
       " NormalSample{Float64}(2.841463327407837, 0.1463915941983844)   \n",
       " NormalSample{Float64}(3.8529412746429443, 0.22734405811582567) \n",
       " NormalSample{Float64}(2.9285714626312256, 0.3542901258512219)  \n",
       " NormalSample{Float64}(3.5, 0.46868178248405457)                \n",
       " NormalSample{Float64}(3.5, 0.46868178248405457)                \n",
       " NormalSample{Float64}(2.700000047683716, 0.4192017301800465)   \n",
       " NormalSample{Float64}(3.1666667461395264, 0.541187106562885)   \n",
       " NormalSample{Float64}(1.5, 0.3124545216560364)                 \n",
       " NormalSample{Float64}(3.3333332538604736, 0.541187106562885)   "
      ]
     },
     "execution_count": 14,
     "metadata": {},
     "output_type": "execute_result"
    }
   ],
   "source": [
    "ss"
   ]
  },
  {
   "cell_type": "markdown",
   "metadata": {},
   "source": [
    "### Apply unbiased predictor (MLE)"
   ]
  },
  {
   "cell_type": "code",
   "execution_count": 26,
   "metadata": {
    "collapsed": true
   },
   "outputs": [],
   "source": [
    "unbiased_preds = ss.Z\n",
    "unbiased_errors = (unbiased_preds .- ground_truth).^2;"
   ]
  },
  {
   "cell_type": "code",
   "execution_count": 27,
   "metadata": {},
   "outputs": [
    {
     "data": {
      "text/plain": [
       "0.09830188086050119"
      ]
     },
     "execution_count": 27,
     "metadata": {},
     "output_type": "execute_result"
    }
   ],
   "source": [
    "unbiased_mse = mean(unbiased_preds_errors)"
   ]
  },
  {
   "cell_type": "markdown",
   "metadata": {},
   "source": [
    "### Apply SURE predictor"
   ]
  },
  {
   "cell_type": "code",
   "execution_count": 28,
   "metadata": {
    "collapsed": true
   },
   "outputs": [],
   "source": [
    "sure_fit = fit(Normal(), SURE(), GrandMeanLocation(), ss)\n",
    "sure_preds = predict(sure_fit);\n",
    "sure_errors = (sure_preds .- ground_truth).^2;"
   ]
  },
  {
   "cell_type": "code",
   "execution_count": 29,
   "metadata": {},
   "outputs": [
    {
     "data": {
      "text/plain": [
       "0.0609882885478651"
      ]
     },
     "execution_count": 29,
     "metadata": {},
     "output_type": "execute_result"
    }
   ],
   "source": [
    "sure_mse = mean(sure_errors)"
   ]
  },
  {
   "cell_type": "markdown",
   "metadata": {},
   "source": [
    "### Apply EBCF and XGBoost predictors"
   ]
  },
  {
   "cell_type": "code",
   "execution_count": 21,
   "metadata": {},
   "outputs": [
    {
     "data": {
      "text/plain": [
       "20-element Array{Symbol,1}:\n",
       " :year       \n",
       " :n          \n",
       " :Action     \n",
       " :Adventure  \n",
       " :Animation  \n",
       " :Children   \n",
       " :Comedy     \n",
       " :Crime      \n",
       " :Documentary\n",
       " :Drama      \n",
       " :Fantasy    \n",
       " :FilmNoir   \n",
       " :Horror     \n",
       " :Musical    \n",
       " :Mystery    \n",
       " :Romance    \n",
       " :SciFi      \n",
       " :Thriller   \n",
       " :War        \n",
       " :Western    "
      ]
     },
     "execution_count": 21,
     "metadata": {},
     "output_type": "execute_result"
    }
   ],
   "source": [
    "X = copy(mv_lens.X_df)[:,1:20]\n",
    "X = DataFrames.mapcols( x-> convert(Vector{Float64}, x), X)\n",
    "names(X)"
   ]
  },
  {
   "cell_type": "code",
   "execution_count": 22,
   "metadata": {},
   "outputs": [
    {
     "name": "stderr",
     "output_type": "stream",
     "text": [
      "┌ Info: Training \u001b[34mMachine{DeterministicTunedModel} @ 3…60\u001b[39m.\n",
      "└ @ MLJ /Users/ignatiad/.julia/packages/MLJ/K371Q/src/machines.jl:141\n",
      "┌ Info: Mimimizing rms. \n",
      "└ @ MLJ /Users/ignatiad/.julia/packages/MLJ/K371Q/src/tuning.jl:194\n",
      "\u001b[33mIterating over a 64-point grid: 100%[=========================] Time: 0:03:18\u001b[39m\n",
      "┌ Info: Training best model on all supplied data.\n",
      "└ @ MLJ /Users/ignatiad/.julia/packages/MLJ/K371Q/src/tuning.jl:287\n",
      "┌ Info: Training \u001b[34mMachine{DeterministicTunedModel} @ 3…60\u001b[39m.\n",
      "└ @ MLJ /Users/ignatiad/.julia/packages/MLJ/K371Q/src/machines.jl:141\n",
      "┌ Info: Mimimizing rms. \n",
      "└ @ MLJ /Users/ignatiad/.julia/packages/MLJ/K371Q/src/tuning.jl:194\n",
      "\u001b[33mIterating over a 64-point grid: 100%[=========================] Time: 0:03:10\u001b[39m\n",
      "┌ Info: Training best model on all supplied data.\n",
      "└ @ MLJ /Users/ignatiad/.julia/packages/MLJ/K371Q/src/tuning.jl:287\n",
      "┌ Info: Training \u001b[34mMachine{DeterministicTunedModel} @ 3…60\u001b[39m.\n",
      "└ @ MLJ /Users/ignatiad/.julia/packages/MLJ/K371Q/src/machines.jl:141\n",
      "┌ Info: Mimimizing rms. \n",
      "└ @ MLJ /Users/ignatiad/.julia/packages/MLJ/K371Q/src/tuning.jl:194\n",
      "\u001b[33mIterating over a 64-point grid: 100%[=========================] Time: 0:03:09\u001b[39m\n",
      "┌ Info: Training best model on all supplied data.\n",
      "└ @ MLJ /Users/ignatiad/.julia/packages/MLJ/K371Q/src/tuning.jl:287\n",
      "┌ Info: Training \u001b[34mMachine{DeterministicTunedModel} @ 3…60\u001b[39m.\n",
      "└ @ MLJ /Users/ignatiad/.julia/packages/MLJ/K371Q/src/machines.jl:141\n",
      "┌ Info: Mimimizing rms. \n",
      "└ @ MLJ /Users/ignatiad/.julia/packages/MLJ/K371Q/src/tuning.jl:194\n",
      "\u001b[33mIterating over a 64-point grid: 100%[=========================] Time: 0:03:15\u001b[39m\n",
      "┌ Info: Training best model on all supplied data.\n",
      "└ @ MLJ /Users/ignatiad/.julia/packages/MLJ/K371Q/src/tuning.jl:287\n",
      "┌ Info: Training \u001b[34mMachine{DeterministicTunedModel} @ 3…60\u001b[39m.\n",
      "└ @ MLJ /Users/ignatiad/.julia/packages/MLJ/K371Q/src/machines.jl:141\n",
      "┌ Info: Mimimizing rms. \n",
      "└ @ MLJ /Users/ignatiad/.julia/packages/MLJ/K371Q/src/tuning.jl:194\n",
      "\u001b[33mIterating over a 64-point grid: 100%[=========================] Time: 0:03:10\u001b[39m\n",
      "┌ Info: Training best model on all supplied data.\n",
      "└ @ MLJ /Users/ignatiad/.julia/packages/MLJ/K371Q/src/tuning.jl:287\n"
     ]
    }
   ],
   "source": [
    "using Random\n",
    "Random.seed!(0)\n",
    "ebcf_fit = fit(ebcf_xgb, X, ss, verbosity=1);"
   ]
  },
  {
   "cell_type": "code",
   "execution_count": 23,
   "metadata": {},
   "outputs": [
    {
     "data": {
      "text/plain": [
       "0.15046060397127844"
      ]
     },
     "execution_count": 23,
     "metadata": {},
     "output_type": "execute_result"
    }
   ],
   "source": [
    "xgboost_preds = ebcf_fit.reg_preds\n",
    "xgboost_errors = (xgboost_preds .- ground_truth).^2\n",
    "mean(xgboost_errors)"
   ]
  },
  {
   "cell_type": "code",
   "execution_count": 24,
   "metadata": {},
   "outputs": [
    {
     "data": {
      "text/plain": [
       "0.05472779360220277"
      ]
     },
     "execution_count": 24,
     "metadata": {},
     "output_type": "execute_result"
    }
   ],
   "source": [
    "ebcf_preds = predict(ebcf_fit)\n",
    "ebcf_errors = (ebcf_preds .- ground_truth).^2;\n",
    "mean(ebcf_errors)"
   ]
  },
  {
   "cell_type": "markdown",
   "metadata": {},
   "source": [
    "## Calculate MSEs for all methods across all movies"
   ]
  },
  {
   "cell_type": "code",
   "execution_count": 36,
   "metadata": {},
   "outputs": [
    {
     "data": {
      "text/plain": [
       "12481"
      ]
     },
     "execution_count": 36,
     "metadata": {},
     "output_type": "execute_result"
    }
   ],
   "source": [
    "N_movies = length(ss)"
   ]
  },
  {
   "cell_type": "code",
   "execution_count": 57,
   "metadata": {},
   "outputs": [
    {
     "data": {
      "text/html": [
       "<table class=\"data-frame\"><thead><tr><th></th><th>method</th><th>mse</th><th>mse_2se</th></tr><tr><th></th><th>String</th><th>Float64</th><th>Float64</th></tr></thead><tbody><p>4 rows × 3 columns</p><tr><th>1</th><td>Unbiased</td><td>0.098</td><td>0.005</td></tr><tr><th>2</th><td>XGBoost</td><td>0.15</td><td>0.005</td></tr><tr><th>3</th><td>SURE</td><td>0.061</td><td>0.002</td></tr><tr><th>4</th><td>EBCF</td><td>0.055</td><td>0.002</td></tr></tbody></table>"
      ],
      "text/latex": [
       "\\begin{tabular}{r|ccc}\n",
       "\t& method & mse & mse\\_2se\\\\\n",
       "\t\\hline\n",
       "\t& String & Float64 & Float64\\\\\n",
       "\t\\hline\n",
       "\t1 & Unbiased & 0.098 & 0.005 \\\\\n",
       "\t2 & XGBoost & 0.15 & 0.005 \\\\\n",
       "\t3 & SURE & 0.061 & 0.002 \\\\\n",
       "\t4 & EBCF & 0.055 & 0.002 \\\\\n",
       "\\end{tabular}\n"
      ],
      "text/plain": [
       "4×3 DataFrames.DataFrame\n",
       "│ Row │ method   │ mse     │ mse_2se │\n",
       "│     │ \u001b[90mString\u001b[39m   │ \u001b[90mFloat64\u001b[39m │ \u001b[90mFloat64\u001b[39m │\n",
       "├─────┼──────────┼─────────┼─────────┤\n",
       "│ 1   │ Unbiased │ 0.098   │ 0.005   │\n",
       "│ 2   │ XGBoost  │ 0.15    │ 0.005   │\n",
       "│ 3   │ SURE     │ 0.061   │ 0.002   │\n",
       "│ 4   │ EBCF     │ 0.055   │ 0.002   │"
      ]
     },
     "execution_count": 57,
     "metadata": {},
     "output_type": "execute_result"
    }
   ],
   "source": [
    "all_mses_df = DataFrames.DataFrame(\n",
    "             [(method=\"Unbiased\", mse = mean(unbiased_errors), mse_2se = 2*std(unbiased_errors)/sqrt(N_movies)),\n",
    "              (method=\"XGBoost\", mse = mean(xgboost_errors), mse_2se = 2*std(xgboost_errors)/sqrt(N_movies)),\n",
    "              (method=\"SURE\", mse = mean(sure_errors), mse_2se = 2*std(sure_errors)/sqrt(N_movies)),\n",
    "              (method=\"EBCF\", mse = mean(ebcf_errors), mse_2se = 2*std(ebcf_errors)/sqrt(N_movies))\n",
    "         ])\n",
    "all_mses_df[!,:mse] = round.(all_mses_df[!,:mse], digits=3)\n",
    "all_mses_df[!,:mse_2se] = round.( all_mses_df[!,:mse_2se], digits=3)\n",
    "\n",
    "all_mses_df"
   ]
  },
  {
   "cell_type": "markdown",
   "metadata": {},
   "source": [
    "## Calculate MSEs for horror & sci-fi movies"
   ]
  },
  {
   "cell_type": "code",
   "execution_count": 77,
   "metadata": {},
   "outputs": [
    {
     "data": {
      "text/plain": [
       "253"
      ]
     },
     "execution_count": 77,
     "metadata": {},
     "output_type": "execute_result"
    }
   ],
   "source": [
    "horror_plus_scifi_idx = findall((X[:,:Horror] .== 1) .& (X[:,:SciFi] .== 1))\n",
    "N_hs = length(horror_plus_scifi_idx)"
   ]
  },
  {
   "cell_type": "code",
   "execution_count": 76,
   "metadata": {},
   "outputs": [
    {
     "data": {
      "text/plain": [
       "(movieId = 196,\n",
       " title = \"Species (1995)\",\n",
       " genres = \"Horror|Sci-Fi\",\n",
       " year = 1995,\n",
       " test_mean = 2.8511827f0,\n",
       " test_n = 12260,\n",
       " test_sd = 0.97894526f0,\n",
       " train_mean = 2.8421052f0,\n",
       " train_n = 1368,\n",
       " train_sd = 0.9887387f0,)"
      ]
     },
     "execution_count": 76,
     "metadata": {},
     "output_type": "execute_result"
    }
   ],
   "source": [
    "# let us look at one example of horror-scifi movie\n",
    " mv_lens.movie_df[horror_plus_scifi_idx[1]]"
   ]
  },
  {
   "cell_type": "code",
   "execution_count": 78,
   "metadata": {},
   "outputs": [
    {
     "data": {
      "text/html": [
       "<table class=\"data-frame\"><thead><tr><th></th><th>method</th><th>mse</th><th>mse_2se</th></tr><tr><th></th><th>String</th><th>Float64</th><th>Float64</th></tr></thead><tbody><p>4 rows × 3 columns</p><tr><th>1</th><td>Unbiased</td><td>0.098</td><td>0.032</td></tr><tr><th>2</th><td>XGBoost</td><td>0.21</td><td>0.036</td></tr><tr><th>3</th><td>SURE</td><td>0.064</td><td>0.018</td></tr><tr><th>4</th><td>EBCF</td><td>0.051</td><td>0.012</td></tr></tbody></table>"
      ],
      "text/latex": [
       "\\begin{tabular}{r|ccc}\n",
       "\t& method & mse & mse\\_2se\\\\\n",
       "\t\\hline\n",
       "\t& String & Float64 & Float64\\\\\n",
       "\t\\hline\n",
       "\t1 & Unbiased & 0.098 & 0.032 \\\\\n",
       "\t2 & XGBoost & 0.21 & 0.036 \\\\\n",
       "\t3 & SURE & 0.064 & 0.018 \\\\\n",
       "\t4 & EBCF & 0.051 & 0.012 \\\\\n",
       "\\end{tabular}\n"
      ],
      "text/plain": [
       "4×3 DataFrames.DataFrame\n",
       "│ Row │ method   │ mse     │ mse_2se │\n",
       "│     │ \u001b[90mString\u001b[39m   │ \u001b[90mFloat64\u001b[39m │ \u001b[90mFloat64\u001b[39m │\n",
       "├─────┼──────────┼─────────┼─────────┤\n",
       "│ 1   │ Unbiased │ 0.098   │ 0.032   │\n",
       "│ 2   │ XGBoost  │ 0.21    │ 0.036   │\n",
       "│ 3   │ SURE     │ 0.064   │ 0.018   │\n",
       "│ 4   │ EBCF     │ 0.051   │ 0.012   │"
      ]
     },
     "execution_count": 78,
     "metadata": {},
     "output_type": "execute_result"
    }
   ],
   "source": [
    "unbiased_errors_hs = unbiased_errors[horror_plus_scifi_idx]\n",
    "xgboost_errors_hs = xgboost_errors[horror_plus_scifi_idx]\n",
    "sure_errors_hs = sure_errors[horror_plus_scifi_idx]\n",
    "ebcf_errors_hs = ebcf_errors[horror_plus_scifi_idx]\n",
    "\n",
    "hs_mses_df = DataFrames.DataFrame(\n",
    "             [(method=\"Unbiased\", mse = mean(unbiased_errors_hs), mse_2se = 2*std(unbiased_errors_hs)/sqrt(N_hs)),\n",
    "              (method=\"XGBoost\", mse = mean(xgboost_errors_hs), mse_2se = 2*std(xgboost_errors_hs)/sqrt(N_hs)),\n",
    "              (method=\"SURE\", mse = mean(sure_errors_hs), mse_2se = 2*std(sure_errors_hs)/sqrt(N_hs)),\n",
    "              (method=\"EBCF\", mse = mean(ebcf_errors_hs), mse_2se = 2*std(ebcf_errors_hs)/sqrt(N_hs))\n",
    "         ])\n",
    "hs_mses_df[!,:mse] = round.(hs_mses_df[!,:mse], digits=3)\n",
    "hs_mses_df[!,:mse_2se] = round.(hs_mses_df[!,:mse_2se], digits=3)\n",
    "\n",
    "hs_mses_df"
   ]
  },
  {
   "cell_type": "code",
   "execution_count": null,
   "metadata": {
    "collapsed": true
   },
   "outputs": [],
   "source": []
  }
 ],
 "metadata": {
  "kernelspec": {
   "display_name": "Julia 1.2.0",
   "language": "julia",
   "name": "julia-1.2"
  },
  "language_info": {
   "file_extension": ".jl",
   "mimetype": "application/julia",
   "name": "julia",
   "version": "1.2.0"
  }
 },
 "nbformat": 4,
 "nbformat_minor": 2
}
