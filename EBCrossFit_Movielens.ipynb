{
 "cells": [
  {
   "cell_type": "code",
   "execution_count": 4,
   "metadata": {},
   "outputs": [
    {
     "name": "stdout",
     "output_type": "stream",
     "text": [
      "\u001b[32m\u001b[1mActivating\u001b[22m\u001b[39m environment at `~/Documents/Stanford/Stefan/EBCrossFitPaper/Project.toml`\n"
     ]
    }
   ],
   "source": [
    "using Pkg\n",
    "Pkg.activate(\".\")"
   ]
  },
  {
   "cell_type": "code",
   "execution_count": 18,
   "metadata": {},
   "outputs": [
    {
     "name": "stdout",
     "output_type": "stream",
     "text": [
      "\u001b[32m\u001b[1m  Updating\u001b[22m\u001b[39m registry at `~/.julia/registries/General`\n",
      "\u001b[32m\u001b[1m  Updating\u001b[22m\u001b[39m git-repo `https://github.com/JuliaRegistries/General.git`\n",
      "\u001b[2K\u001b[?25h[1mFetching:\u001b[22m\u001b[39m [========================================>]  100.0 %.0 %\u001b[32m\u001b[1m Resolving\u001b[22m\u001b[39m package versions...\n",
      "\u001b[32m\u001b[1m Installed\u001b[22m\u001b[39m BinaryProvider ─ v0.5.7\n",
      "\u001b[32m\u001b[1m  Updating\u001b[22m\u001b[39m `~/Documents/Stanford/Stefan/EBCrossFitPaper/Project.toml`\n",
      " \u001b[90m [2913bbd2]\u001b[39m\u001b[92m + StatsBase v0.32.0\u001b[39m\n",
      "\u001b[32m\u001b[1m  Updating\u001b[22m\u001b[39m `~/Documents/Stanford/Stefan/EBCrossFitPaper/Manifest.toml`\n",
      " \u001b[90m [b99e7846]\u001b[39m\u001b[93m ↑ BinaryProvider v0.5.6 ⇒ v0.5.7\u001b[39m\n"
     ]
    }
   ],
   "source": [
    "Pkg.add(\"StatsBase\")"
   ]
  },
  {
   "cell_type": "markdown",
   "metadata": {},
   "source": [
    "Pkg.status()"
   ]
  },
  {
   "cell_type": "code",
   "execution_count": 21,
   "metadata": {},
   "outputs": [],
   "source": [
    "using EBayes\n",
    "using EBayesDatasets\n",
    "import JuliaDB\n",
    "using StatsBase"
   ]
  },
  {
   "cell_type": "markdown",
   "metadata": {},
   "source": [
    "Load in the MovieLens dataset. The preprocessing of the data occurs in the [EBayesDatasets.jl](https://github.com/nignatiadis/EBayesDatasets.jl) package."
   ]
  },
  {
   "cell_type": "code",
   "execution_count": 8,
   "metadata": {},
   "outputs": [],
   "source": [
    "mv_lens = EBayesDatasets.MovieLens(;n_min_train=3, prop_test=0.1);"
   ]
  },
  {
   "cell_type": "markdown",
   "metadata": {},
   "source": [
    "## Pulp Fiction and Urban Justice\n",
    "\n",
    "In the introduction of the paper we mention the ratings of these two movies, so let us compute these:"
   ]
  },
  {
   "cell_type": "code",
   "execution_count": 10,
   "metadata": {},
   "outputs": [],
   "source": [
    "movie_titles = JuliaDB.select(mv_lens.movie_df, :title);"
   ]
  },
  {
   "cell_type": "code",
   "execution_count": 20,
   "metadata": {},
   "outputs": [
    {
     "data": {
      "text/plain": [
       "(movieId = 296,\n",
       " title = \"Pulp Fiction (1994)\",\n",
       " genres = \"Comedy|Crime|Drama|Thriller\",\n",
       " year = 1994,\n",
       " test_mean = 4.1734962f0,\n",
       " test_n = 60641,\n",
       " test_sd = 0.9773011f0,\n",
       " train_mean = 4.1809115f0,\n",
       " train_n = 6669,\n",
       " train_sd = 0.96609414f0,)"
      ]
     },
     "execution_count": 20,
     "metadata": {},
     "output_type": "execute_result"
    }
   ],
   "source": [
    "pulp_fiction_idx = findall( match.(r\"Pulp\", movie_titles) .!= nothing)[1]\n",
    "pulp_fiction = mv_lens.movie_df[pulp_fiction_idx]"
   ]
  },
  {
   "cell_type": "code",
   "execution_count": 35,
   "metadata": {},
   "outputs": [
    {
     "data": {
      "text/plain": [
       "4.2"
      ]
     },
     "execution_count": 35,
     "metadata": {},
     "output_type": "execute_result"
    }
   ],
   "source": [
    "# let us average over test and train sets\n",
    "pulp_fiction_avg = mean( [pulp_fiction[:test_mean], pulp_fiction[:train_mean]],\n",
    "                    Weights([pulp_fiction[:test_n], pulp_fiction[:train_n]]))\n",
    "round(Float64(pulp_fiction_avg), digits=1)"
   ]
  },
  {
   "cell_type": "code",
   "execution_count": 39,
   "metadata": {},
   "outputs": [
    {
     "data": {
      "text/plain": [
       "(movieId = 66652,\n",
       " title = \"Urban Justice (2007)\",\n",
       " genres = \"Action\",\n",
       " year = 2007,\n",
       " test_mean = 1.5454545f0,\n",
       " test_n = 11,\n",
       " test_sd = 0.9862693f0,\n",
       " train_mean = 1.8333334f0,\n",
       " train_n = 3,\n",
       " train_sd = 0.28867513f0,)"
      ]
     },
     "execution_count": 39,
     "metadata": {},
     "output_type": "execute_result"
    }
   ],
   "source": [
    "urban_justice_idx = findall( match.(r\"Urban Justice\", movie_titles) .!= nothing)[1]\n",
    "urban_justice = mv_lens.movie_df[urban_justice_idx]"
   ]
  },
  {
   "cell_type": "code",
   "execution_count": 41,
   "metadata": {},
   "outputs": [
    {
     "data": {
      "text/plain": [
       "1.6"
      ]
     },
     "execution_count": 41,
     "metadata": {},
     "output_type": "execute_result"
    }
   ],
   "source": [
    "# let us average over test and train sets\n",
    "urban_justice_avg = mean( [urban_justice[:test_mean], urban_justice[:train_mean]],\n",
    "                    Weights([urban_justice[:test_n], urban_justice[:train_n]]))\n",
    "round(Float64(urban_justice_avg), digits=1)"
   ]
  },
  {
   "cell_type": "markdown",
   "metadata": {},
   "source": [
    "# Set up EBCrossFit with XGBoost"
   ]
  },
  {
   "cell_type": "code",
   "execution_count": 50,
   "metadata": {
    "collapsed": true
   },
   "outputs": [],
   "source": [
    "using MLJ"
   ]
  },
  {
   "cell_type": "code",
   "execution_count": 52,
   "metadata": {},
   "outputs": [
    {
     "name": "stderr",
     "output_type": "stream",
     "text": [
      "┌ Info: A model type \"XGBoostRegressor\" is already loaded. \n",
      "│ No new code loaded. \n",
      "└ @ MLJModels /Users/ignatiad/.julia/packages/MLJModels/SD4Ue/src/loading.jl:41\n"
     ]
    },
    {
     "ename": "UndefVarError",
     "evalue": "UndefVarError: l not defined",
     "output_type": "error",
     "traceback": [
      "UndefVarError: l not defined",
      "",
      "Stacktrace:",
      " [1] top-level scope at In[52]:6"
     ]
    }
   ],
   "source": [
    "MLJ.@load XGBoostRegressor\n",
    "xgb_tree = XGBoostRegressor(max_depth=5)\n",
    "r_num_round = range(xgb_tree, :num_round, lower=2, upper=100)\n",
    "r_eta = range(xgb_tree, :eta, lower=0.01, upper=1.0)\n",
    "nested_ranges = [r_num_round, r_eta]\n",
    "tuned_XGBoost = TunedModel(model=xgb_tree,\n",
    "                           tuning=Grid(resolution=10),\n",
    "                           resampling=CV(nfolds=5),\n",
    "                           ranges=nested_ranges,\n",
    "                           measure=rms)l"
   ]
  },
  {
   "cell_type": "markdown",
   "metadata": {},
   "source": [
    "# Evaluation of methods"
   ]
  },
  {
   "cell_type": "code",
   "execution_count": 43,
   "metadata": {},
   "outputs": [],
   "source": [
    "ss = mv_lens.Zs_train  #Z_i and σ_i calculated based on 10% of users\n",
    "ground_truth = mv_lens.Zs_test.Z; #average movie ratings based on other 90% of users"
   ]
  },
  {
   "cell_type": "code",
   "execution_count": 45,
   "metadata": {},
   "outputs": [
    {
     "data": {
      "text/plain": [
       "12481-element StructArray(::Array{Float64,1}, ::Array{Float64,1}) with eltype NormalSample{Float64}:\n",
       " NormalSample{Float64}(3.915266275405884, 0.01341832039868122)  \n",
       " NormalSample{Float64}(3.2022109031677246, 0.0201176920943941)  \n",
       " NormalSample{Float64}(3.15059757232666, 0.02645977858585608)   \n",
       " NormalSample{Float64}(2.8026819229125977, 0.058021348063866655)\n",
       " NormalSample{Float64}(3.091531276702881, 0.027415793044111868) \n",
       " NormalSample{Float64}(3.8189802169799805, 0.019402497795562867)\n",
       " NormalSample{Float64}(3.3526148796081543, 0.026386293639319304)\n",
       " NormalSample{Float64}(3.0565216541290283, 0.08740960314020435) \n",
       " NormalSample{Float64}(3.0024330615997314, 0.046236734874957754)\n",
       " NormalSample{Float64}(3.431675910949707, 0.017478881086919393) \n",
       " NormalSample{Float64}(3.651515245437622, 0.021805049915141168) \n",
       " NormalSample{Float64}(2.6008522510528564, 0.04996164588421241) \n",
       " NormalSample{Float64}(3.316793918609619, 0.08189783492788894)  \n",
       " ⋮                                                              \n",
       " NormalSample{Float64}(4.0, 0.541187106562885)                  \n",
       " NormalSample{Float64}(2.9375, 0.3314080666130734)              \n",
       " NormalSample{Float64}(2.625, 0.46868178248405457)              \n",
       " NormalSample{Float64}(2.841463327407837, 0.1463915941983844)   \n",
       " NormalSample{Float64}(3.8529412746429443, 0.22734405811582567) \n",
       " NormalSample{Float64}(2.9285714626312256, 0.3542901258512219)  \n",
       " NormalSample{Float64}(3.5, 0.46868178248405457)                \n",
       " NormalSample{Float64}(3.5, 0.46868178248405457)                \n",
       " NormalSample{Float64}(2.700000047683716, 0.4192017301800465)   \n",
       " NormalSample{Float64}(3.1666667461395264, 0.541187106562885)   \n",
       " NormalSample{Float64}(1.5, 0.3124545216560364)                 \n",
       " NormalSample{Float64}(3.3333332538604736, 0.541187106562885)   "
      ]
     },
     "execution_count": 45,
     "metadata": {},
     "output_type": "execute_result"
    }
   ],
   "source": [
    "ss"
   ]
  },
  {
   "cell_type": "markdown",
   "metadata": {},
   "source": [
    "### Apply unbiased predictor (MLE)"
   ]
  },
  {
   "cell_type": "code",
   "execution_count": 58,
   "metadata": {},
   "outputs": [],
   "source": [
    "unbiased_preds = ss.Z\n",
    "unbiased_preds_errors = (unbiased_preds .- ground_truth).^2;"
   ]
  },
  {
   "cell_type": "code",
   "execution_count": 59,
   "metadata": {},
   "outputs": [
    {
     "data": {
      "text/plain": [
       "0.09830188086050119"
      ]
     },
     "execution_count": 59,
     "metadata": {},
     "output_type": "execute_result"
    }
   ],
   "source": [
    "unbiased_mse = mean(unbiased_preds_errors)\n",
    "# unbiased_mse_std = std(mle_errors)/sqrt(length(ss))\n"
   ]
  },
  {
   "cell_type": "markdown",
   "metadata": {},
   "source": [
    "### Apply SURE predictor"
   ]
  },
  {
   "cell_type": "code",
   "execution_count": 57,
   "metadata": {},
   "outputs": [],
   "source": [
    "sure_fit = fit(Normal(), SURE(), GrandMeanLocation(), ss)\n",
    "sure_preds = predict(sure_fit);\n",
    "sure_preds_errors = (sure_preds .- ground_truth).^2;"
   ]
  },
  {
   "cell_type": "code",
   "execution_count": 60,
   "metadata": {},
   "outputs": [
    {
     "data": {
      "text/plain": [
       "0.0609882885478651"
      ]
     },
     "execution_count": 60,
     "metadata": {},
     "output_type": "execute_result"
    }
   ],
   "source": [
    "sure_mse = mean(sure_preds_errors)\n",
    "# sure_mse_std = std(sure_errors)/sqrt(length(ss))\n",
    "#"
   ]
  },
  {
   "cell_type": "code",
   "execution_count": null,
   "metadata": {
    "collapsed": true
   },
   "outputs": [],
   "source": [
    "# ebcf_mse = mean(ebcf_errors)\n",
    "# ebcf_mse_std = std(ebcf_errors)/sqrt(length(ss))"
   ]
  },
  {
   "cell_type": "code",
   "execution_count": null,
   "metadata": {
    "collapsed": true
   },
   "outputs": [],
   "source": [
    "sure_preds_errors = ss.Z\n"
   ]
  }
 ],
 "metadata": {
  "kernelspec": {
   "display_name": "Julia 1.2.0",
   "language": "julia",
   "name": "julia-1.2"
  },
  "language_info": {
   "file_extension": ".jl",
   "mimetype": "application/julia",
   "name": "julia",
   "version": "1.2.0"
  }
 },
 "nbformat": 4,
 "nbformat_minor": 2
}
